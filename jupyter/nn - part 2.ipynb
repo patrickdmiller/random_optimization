{
 "cells": [
  {
   "cell_type": "code",
   "execution_count": 3,
   "metadata": {
    "collapsed": true
   },
   "outputs": [
    {
     "name": "stdout",
     "output_type": "stream",
     "text": [
      "Requirement already satisfied: mlrose-hiive in /usr/local/lib/python3.8/dist-packages (2.2.4)\n",
      "Requirement already satisfied: numpy in /usr/local/lib/python3.8/dist-packages (from mlrose-hiive) (1.22.1)\n",
      "Requirement already satisfied: scipy in /usr/local/lib/python3.8/dist-packages (from mlrose-hiive) (1.9.2)\n",
      "Requirement already satisfied: pandas in /usr/local/lib/python3.8/dist-packages (from mlrose-hiive) (1.5.0)\n",
      "Requirement already satisfied: joblib in /usr/local/lib/python3.8/dist-packages (from mlrose-hiive) (1.2.0)\n",
      "Requirement already satisfied: networkx in /usr/local/lib/python3.8/dist-packages (from mlrose-hiive) (2.8.7)\n",
      "Requirement already satisfied: scikit-learn in /usr/local/lib/python3.8/dist-packages (from mlrose-hiive) (1.1.2)\n",
      "Requirement already satisfied: python-dateutil>=2.8.1 in /usr/local/lib/python3.8/dist-packages (from pandas->mlrose-hiive) (2.8.2)\n",
      "Requirement already satisfied: pytz>=2020.1 in /usr/local/lib/python3.8/dist-packages (from pandas->mlrose-hiive) (2022.4)\n",
      "Requirement already satisfied: threadpoolctl>=2.0.0 in /usr/local/lib/python3.8/dist-packages (from scikit-learn->mlrose-hiive) (3.1.0)\n",
      "Requirement already satisfied: six>=1.5 in /usr/lib/python3/dist-packages (from python-dateutil>=2.8.1->pandas->mlrose-hiive) (1.14.0)\n",
      "\u001b[33mWARNING: You are using pip version 20.2.4; however, version 22.2.2 is available.\n",
      "You should consider upgrading via the '/usr/bin/python3 -m pip install --upgrade pip' command.\u001b[0m\n",
      "Collecting import-ipynb\n",
      "  Downloading import_ipynb-0.1.4-py3-none-any.whl (4.1 kB)\n",
      "Requirement already satisfied: nbformat in /usr/local/lib/python3.8/dist-packages (from import-ipynb) (4.4.0)\n",
      "Requirement already satisfied: IPython in /usr/local/lib/python3.8/dist-packages (from import-ipynb) (8.0.1)\n",
      "Requirement already satisfied: ipython-genutils in /usr/local/lib/python3.8/dist-packages (from nbformat->import-ipynb) (0.2.0)\n",
      "Requirement already satisfied: traitlets>=4.1 in /usr/local/lib/python3.8/dist-packages (from nbformat->import-ipynb) (5.1.1)\n",
      "Requirement already satisfied: jsonschema!=2.5.0,>=2.4 in /usr/local/lib/python3.8/dist-packages (from nbformat->import-ipynb) (4.4.0)\n",
      "Requirement already satisfied: jupyter-core in /usr/local/lib/python3.8/dist-packages (from nbformat->import-ipynb) (4.9.1)\n",
      "Requirement already satisfied: stack-data in /usr/local/lib/python3.8/dist-packages (from IPython->import-ipynb) (0.1.4)\n",
      "Requirement already satisfied: pexpect>4.3; sys_platform != \"win32\" in /usr/local/lib/python3.8/dist-packages (from IPython->import-ipynb) (4.8.0)\n",
      "Requirement already satisfied: decorator in /usr/local/lib/python3.8/dist-packages (from IPython->import-ipynb) (5.1.1)\n",
      "Requirement already satisfied: jedi>=0.16 in /usr/local/lib/python3.8/dist-packages (from IPython->import-ipynb) (0.17.2)\n",
      "Requirement already satisfied: setuptools>=18.5 in /usr/local/lib/python3.8/dist-packages (from IPython->import-ipynb) (60.7.0)\n",
      "Requirement already satisfied: matplotlib-inline in /usr/local/lib/python3.8/dist-packages (from IPython->import-ipynb) (0.1.3)\n",
      "Requirement already satisfied: black in /usr/local/lib/python3.8/dist-packages (from IPython->import-ipynb) (22.1.0)\n",
      "Requirement already satisfied: prompt-toolkit!=3.0.0,!=3.0.1,<3.1.0,>=2.0.0 in /usr/local/lib/python3.8/dist-packages (from IPython->import-ipynb) (3.0.26)\n",
      "Requirement already satisfied: pickleshare in /usr/local/lib/python3.8/dist-packages (from IPython->import-ipynb) (0.7.5)\n",
      "Requirement already satisfied: pygments in /usr/local/lib/python3.8/dist-packages (from IPython->import-ipynb) (2.11.2)\n",
      "Requirement already satisfied: backcall in /usr/local/lib/python3.8/dist-packages (from IPython->import-ipynb) (0.2.0)\n",
      "Requirement already satisfied: attrs>=17.4.0 in /usr/local/lib/python3.8/dist-packages (from jsonschema!=2.5.0,>=2.4->nbformat->import-ipynb) (21.4.0)\n",
      "Requirement already satisfied: importlib-resources>=1.4.0; python_version < \"3.9\" in /usr/local/lib/python3.8/dist-packages (from jsonschema!=2.5.0,>=2.4->nbformat->import-ipynb) (5.4.0)\n",
      "Requirement already satisfied: pyrsistent!=0.17.0,!=0.17.1,!=0.17.2,>=0.14.0 in /usr/local/lib/python3.8/dist-packages (from jsonschema!=2.5.0,>=2.4->nbformat->import-ipynb) (0.18.1)\n",
      "Requirement already satisfied: pure-eval in /usr/local/lib/python3.8/dist-packages (from stack-data->IPython->import-ipynb) (0.2.2)\n",
      "Requirement already satisfied: executing in /usr/local/lib/python3.8/dist-packages (from stack-data->IPython->import-ipynb) (0.8.2)\n",
      "Requirement already satisfied: asttokens in /usr/local/lib/python3.8/dist-packages (from stack-data->IPython->import-ipynb) (2.0.5)\n",
      "Requirement already satisfied: ptyprocess>=0.5 in /usr/local/lib/python3.8/dist-packages (from pexpect>4.3; sys_platform != \"win32\"->IPython->import-ipynb) (0.7.0)\n",
      "Requirement already satisfied: parso<0.8.0,>=0.7.0 in /usr/local/lib/python3.8/dist-packages (from jedi>=0.16->IPython->import-ipynb) (0.7.1)\n",
      "Requirement already satisfied: tomli>=1.1.0 in /usr/local/lib/python3.8/dist-packages (from black->IPython->import-ipynb) (2.0.0)\n",
      "Requirement already satisfied: platformdirs>=2 in /usr/local/lib/python3.8/dist-packages (from black->IPython->import-ipynb) (2.4.1)\n",
      "Requirement already satisfied: click>=8.0.0 in /usr/local/lib/python3.8/dist-packages (from black->IPython->import-ipynb) (8.0.3)\n",
      "Requirement already satisfied: typing-extensions>=3.10.0.0; python_version < \"3.10\" in /usr/local/lib/python3.8/dist-packages (from black->IPython->import-ipynb) (4.0.1)\n",
      "Requirement already satisfied: mypy-extensions>=0.4.3 in /usr/local/lib/python3.8/dist-packages (from black->IPython->import-ipynb) (0.4.3)\n",
      "Requirement already satisfied: pathspec>=0.9.0 in /usr/local/lib/python3.8/dist-packages (from black->IPython->import-ipynb) (0.9.0)\n",
      "Requirement already satisfied: wcwidth in /usr/local/lib/python3.8/dist-packages (from prompt-toolkit!=3.0.0,!=3.0.1,<3.1.0,>=2.0.0->IPython->import-ipynb) (0.2.5)\n",
      "Requirement already satisfied: zipp>=3.1.0; python_version < \"3.10\" in /usr/local/lib/python3.8/dist-packages (from importlib-resources>=1.4.0; python_version < \"3.9\"->jsonschema!=2.5.0,>=2.4->nbformat->import-ipynb) (3.7.0)\n",
      "Requirement already satisfied: six in /usr/lib/python3/dist-packages (from asttokens->stack-data->IPython->import-ipynb) (1.14.0)\n",
      "Installing collected packages: import-ipynb\n",
      "Successfully installed import-ipynb-0.1.4\n",
      "\u001b[33mWARNING: You are using pip version 20.2.4; however, version 22.2.2 is available.\n",
      "You should consider upgrading via the '/usr/bin/python3 -m pip install --upgrade pip' command.\u001b[0m\n",
      "The autoreload extension is already loaded. To reload it, use:\n",
      "  %reload_ext autoreload\n"
     ]
    }
   ],
   "source": [
    "!pip install mlrose-hiive\n",
    "!pip install import-ipynb\n",
    "%load_ext autoreload\n",
    "%autoreload 2"
   ]
  },
  {
   "cell_type": "code",
   "execution_count": 4,
   "metadata": {
    "collapsed": true
   },
   "outputs": [
    {
     "name": "stdout",
     "output_type": "stream",
     "text": [
      "importing Jupyter notebook from framingham_data.ipynb\n",
      "Requirement already satisfied: seaborn in /usr/local/lib/python3.8/dist-packages (0.12.0)\n",
      "Requirement already satisfied: pandas>=0.25 in /usr/local/lib/python3.8/dist-packages (from seaborn) (1.5.0)\n",
      "Requirement already satisfied: matplotlib>=3.1 in /usr/local/lib/python3.8/dist-packages (from seaborn) (3.5.1)\n",
      "Requirement already satisfied: numpy>=1.17 in /usr/local/lib/python3.8/dist-packages (from seaborn) (1.22.1)\n",
      "Requirement already satisfied: python-dateutil>=2.8.1 in /usr/local/lib/python3.8/dist-packages (from pandas>=0.25->seaborn) (2.8.2)\n",
      "Requirement already satisfied: pytz>=2020.1 in /usr/local/lib/python3.8/dist-packages (from pandas>=0.25->seaborn) (2022.4)\n",
      "Requirement already satisfied: pyparsing>=2.2.1 in /usr/local/lib/python3.8/dist-packages (from matplotlib>=3.1->seaborn) (3.0.7)\n",
      "Requirement already satisfied: fonttools>=4.22.0 in /usr/local/lib/python3.8/dist-packages (from matplotlib>=3.1->seaborn) (4.29.1)\n",
      "Requirement already satisfied: pillow>=6.2.0 in /usr/local/lib/python3.8/dist-packages (from matplotlib>=3.1->seaborn) (9.0.0)\n",
      "Requirement already satisfied: packaging>=20.0 in /usr/local/lib/python3.8/dist-packages (from matplotlib>=3.1->seaborn) (21.3)\n",
      "Requirement already satisfied: cycler>=0.10 in /usr/local/lib/python3.8/dist-packages (from matplotlib>=3.1->seaborn) (0.11.0)\n",
      "Requirement already satisfied: kiwisolver>=1.0.1 in /usr/local/lib/python3.8/dist-packages (from matplotlib>=3.1->seaborn) (1.3.2)\n",
      "Requirement already satisfied: six>=1.5 in /usr/lib/python3/dist-packages (from python-dateutil>=2.8.1->pandas>=0.25->seaborn) (1.14.0)\n",
      "\u001b[33mWARNING: You are using pip version 20.2.4; however, version 22.2.2 is available.\n",
      "You should consider upgrading via the '/usr/bin/python3 -m pip install --upgrade pip' command.\u001b[0m\n",
      "Requirement already satisfied: pandas in /usr/local/lib/python3.8/dist-packages (1.5.0)\n",
      "Requirement already satisfied: python-dateutil>=2.8.1 in /usr/local/lib/python3.8/dist-packages (from pandas) (2.8.2)\n",
      "Requirement already satisfied: pytz>=2020.1 in /usr/local/lib/python3.8/dist-packages (from pandas) (2022.4)\n",
      "Requirement already satisfied: numpy>=1.20.3; python_version < \"3.10\" in /usr/local/lib/python3.8/dist-packages (from pandas) (1.22.1)\n",
      "Requirement already satisfied: six>=1.5 in /usr/lib/python3/dist-packages (from python-dateutil>=2.8.1->pandas) (1.14.0)\n",
      "\u001b[33mWARNING: You are using pip version 20.2.4; however, version 22.2.2 is available.\n",
      "You should consider upgrading via the '/usr/bin/python3 -m pip install --upgrade pip' command.\u001b[0m\n",
      "Requirement already satisfied: sklearn in /usr/local/lib/python3.8/dist-packages (0.0)\n",
      "Requirement already satisfied: scikit-learn in /usr/local/lib/python3.8/dist-packages (from sklearn) (1.1.2)\n",
      "Requirement already satisfied: joblib>=1.0.0 in /usr/local/lib/python3.8/dist-packages (from scikit-learn->sklearn) (1.2.0)\n",
      "Requirement already satisfied: threadpoolctl>=2.0.0 in /usr/local/lib/python3.8/dist-packages (from scikit-learn->sklearn) (3.1.0)\n",
      "Requirement already satisfied: numpy>=1.17.3 in /usr/local/lib/python3.8/dist-packages (from scikit-learn->sklearn) (1.22.1)\n",
      "Requirement already satisfied: scipy>=1.3.2 in /usr/local/lib/python3.8/dist-packages (from scikit-learn->sklearn) (1.9.2)\n",
      "\u001b[33mWARNING: You are using pip version 20.2.4; however, version 22.2.2 is available.\n",
      "You should consider upgrading via the '/usr/bin/python3 -m pip install --upgrade pip' command.\u001b[0m\n",
      "Requirement already satisfied: numpy in /usr/local/lib/python3.8/dist-packages (1.22.1)\n",
      "\u001b[33mWARNING: You are using pip version 20.2.4; however, version 22.2.2 is available.\n",
      "You should consider upgrading via the '/usr/bin/python3 -m pip install --upgrade pip' command.\u001b[0m\n"
     ]
    },
    {
     "ename": "ModuleNotFoundError",
     "evalue": "No module named 'imblearn'",
     "output_type": "error",
     "traceback": [
      "\u001b[0;31m---------------------------------------------------------------------------\u001b[0m",
      "\u001b[0;31mModuleNotFoundError\u001b[0m                       Traceback (most recent call last)",
      "Input \u001b[0;32mIn [4]\u001b[0m, in \u001b[0;36m<module>\u001b[0;34m\u001b[0m\n\u001b[1;32m      2\u001b[0m \u001b[38;5;28;01mimport\u001b[39;00m \u001b[38;5;21;01mimport_ipynb\u001b[39;00m\n\u001b[1;32m      3\u001b[0m \u001b[38;5;28;01mimport\u001b[39;00m \u001b[38;5;21;01mimportlib\u001b[39;00m\n\u001b[0;32m----> 4\u001b[0m \u001b[38;5;28;01mimport\u001b[39;00m \u001b[38;5;21;01mframingham_data\u001b[39;00m\n\u001b[1;32m      5\u001b[0m importlib\u001b[38;5;241m.\u001b[39mreload(framingham_data)\n",
      "File \u001b[0;32m/usr/local/lib/python3.8/dist-packages/import_ipynb.py:61\u001b[0m, in \u001b[0;36mNotebookLoader.load_module\u001b[0;34m(self, fullname)\u001b[0m\n\u001b[1;32m     59\u001b[0m         code \u001b[38;5;241m=\u001b[39m \u001b[38;5;28mself\u001b[39m\u001b[38;5;241m.\u001b[39mshell\u001b[38;5;241m.\u001b[39minput_transformer_manager\u001b[38;5;241m.\u001b[39mtransform_cell(cell\u001b[38;5;241m.\u001b[39msource)\n\u001b[1;32m     60\u001b[0m         \u001b[38;5;66;03m# run the code in themodule\u001b[39;00m\n\u001b[0;32m---> 61\u001b[0m         \u001b[43mexec\u001b[49m\u001b[43m(\u001b[49m\u001b[43mcode\u001b[49m\u001b[43m,\u001b[49m\u001b[43m \u001b[49m\u001b[43mmod\u001b[49m\u001b[38;5;241;43m.\u001b[39;49m\u001b[38;5;18;43m__dict__\u001b[39;49m\u001b[43m)\u001b[49m\n\u001b[1;32m     62\u001b[0m \u001b[38;5;28;01mfinally\u001b[39;00m:\n\u001b[1;32m     63\u001b[0m     \u001b[38;5;28mself\u001b[39m\u001b[38;5;241m.\u001b[39mshell\u001b[38;5;241m.\u001b[39muser_ns \u001b[38;5;241m=\u001b[39m save_user_ns\n",
      "File \u001b[0;32m<string>:10\u001b[0m, in \u001b[0;36m<module>\u001b[0;34m\u001b[0m\n",
      "\u001b[0;31mModuleNotFoundError\u001b[0m: No module named 'imblearn'"
     ]
    }
   ],
   "source": [
    "#load data \n",
    "import import_ipynb\n",
    "import importlib\n",
    "import framingham_data\n",
    "importlib.reload(framingham_data)"
   ]
  },
  {
   "cell_type": "code",
   "execution_count": 110,
   "metadata": {},
   "outputs": [],
   "source": [
    "mlr_data = '/tf/data/mlrose/'\n",
    "mlr_src = '../'\n",
    "import mlrose_hiive\n",
    "import numpy as np\n",
    "from mlrose_hiive import QueensGenerator, MaxKColorGenerator, TSPGenerator\n",
    "import pandas as pd\n",
    "\n",
    "import matplotlib.pyplot as plt\n",
    "\n",
    "%matplotlib inline\n",
    "import sys\n",
    "import os\n",
    "\n",
    "\n",
    "sys.path.insert(0, mlr_src)\n",
    "from Graph import *\n",
    "from NN_Experiment import *"
   ]
  },
  {
   "cell_type": "code",
   "execution_count": 112,
   "metadata": {},
   "outputs": [
    {
     "name": "stdout",
     "output_type": "stream",
     "text": [
      "[[4.40342681e+00 3.00000000e+00]\n",
      " [4.42968737e+00 5.00000000e+00]\n",
      " [4.42874932e+00 7.00000000e+00]\n",
      " ...\n",
      " [7.10424100e-01 1.37390000e+04]\n",
      " [7.09529849e-01 1.37410000e+04]\n",
      " [7.09953327e-01 1.37430000e+04]]\n"
     ]
    }
   ],
   "source": [
    "results = {\n",
    "    'sa':NNExperiment.pickle_load(os.path.join(mlr_data, 'nnbak','pickle_sa.p'))[0],\n",
    "    'ga':NNExperiment.pickle_load(os.path.join(mlr_data, 'nnbak','pickle_ga.p'))[0],\n",
    "    'rhc':NNExperiment.pickle_load(os.path.join(mlr_data, 'nnbak','pickle_rhc.p'))[0]\n",
    "}\n",
    "print(results['sa'].raw)"
   ]
  },
  {
   "cell_type": "code",
   "execution_count": 113,
   "metadata": {},
   "outputs": [
    {
     "name": "stdout",
     "output_type": "stream",
     "text": [
      "sa \n",
      "it:7500,trainacc:0.6609137055837564, valacc:0.6683569979716024,testacc:0.5959677419354839,fevals:13743.0, fitness:0.7099533268206158, time:94.46387840493117, raw:[[4.40342681e+00 3.00000000e+00]\n",
      " [4.42968737e+00 5.00000000e+00]\n",
      " [4.42874932e+00 7.00000000e+00]\n",
      " ...\n",
      " [7.10424100e-01 1.37390000e+04]\n",
      " [7.09529849e-01 1.37410000e+04]\n",
      " [7.09953327e-01 1.37430000e+04]]\n",
      "ga \n",
      "it:7500,trainacc:0.6804568527918782, valacc:0.6835699797160243,testacc:0.6201612903225806,fevals:757614.0, fitness:11.036763455607593, time:5190.984790822957, raw:[[1.30881419e+01 2.03000000e+02]\n",
      " [1.30881419e+01 3.04000000e+02]\n",
      " [1.30881419e+01 4.05000000e+02]\n",
      " ...\n",
      " [1.10367635e+01 7.57412000e+05]\n",
      " [1.10367635e+01 7.57513000e+05]\n",
      " [1.10367635e+01 7.57614000e+05]]\n",
      "rhc \n",
      "it:7500,trainacc:0.7291878172588833, valacc:0.6774847870182555,testacc:0.6596774193548387,fevals:64038.0, fitness:0.5608126508906454, time:518.2535620419949, raw:[[4.44292353e+00 5.34120000e+04]\n",
      " [4.44269383e+00 5.34140000e+04]\n",
      " [4.44269360e+00 5.34160000e+04]\n",
      " ...\n",
      " [5.60812651e-01 6.40360000e+04]\n",
      " [5.60812651e-01 6.40370000e+04]\n",
      " [5.60812651e-01 6.40380000e+04]]\n"
     ]
    },
    {
     "data": {
      "image/png": "[encoded data removed]",
      "text/plain": [
       "<Figure size 576x360 with 1 Axes>"
      ]
     },
     "metadata": {
      "needs_background": "light"
     },
     "output_type": "display_data"
    },
    {
     "data": {
      "image/png": "[encoded data removed]",
      "text/plain": [
       "<Figure size 648x360 with 1 Axes>"
      ]
     },
     "metadata": {
      "needs_background": "light"
     },
     "output_type": "display_data"
    }
   ],
   "source": [
    "def graph_generate_nn_validation_fitness(experiments, title, x_label, y_label, size=None, fill_end=True, max_x=None):\n",
    "    plt.rcParams[\"figure.figsize\"] = (9,5)\n",
    "\n",
    "    fig, ax1 = plt.subplots()\n",
    "    plt.title(title)\n",
    "    plt.xlabel(x_label)\n",
    "    plt.ylabel(y_label)\n",
    "    ax1.grid()\n",
    "    w = 0.9\n",
    "    for exp in experiments:\n",
    "            sample = experiments[exp]\n",
    "            label = f'{exp.upper()}'\n",
    "            val = ax1.bar(exp+'-val', sample.val_score, width=w, color=colors[exp])\n",
    "            train = ax1.bar(exp+'-train', sample.train_score, width=w, color=colors[exp])\n",
    "            test = ax1.bar(exp+'-test', sample.train_score, width=w, color=colors[exp], label=\"hi\")\n",
    "#             add_label(ax1, val, sample.val_score)\n",
    "    ax1.bar('bp-val', 1, width=w, color='gray')\n",
    "    ax1.bar('bp-train', .997, width=w, color='gray')\n",
    "    ax1.bar('bp-test', .784, width=w, color='gray')\n",
    "    fig.tight_layout()\n",
    "    #real data from backprop\n",
    "    \n",
    "#     for bars in ax1.containers:\n",
    "#         ax1.bar_label()\n",
    "\n",
    "def summary_table(experiments):\n",
    "    for alg in experiments:\n",
    "        print(alg, experiments[alg])\n",
    "\n",
    "graph_generate_nn_summary(results, 'Random Optimization Training', 'Iteration','Fitness (loss)')\n",
    "graph_generate_nn_validation_fitness(results, 'Random Optimization Training', 'Algorithm','Fitness (accuracy)')\n",
    "summary_table(results)"
   ]
  }
 ],
 "metadata": {
  "kernelspec": {
   "display_name": "Python 3",
   "language": "python",
   "name": "python3"
  },
  "language_info": {
   "codemirror_mode": {
    "name": "ipython",
    "version": 3
   },
   "file_extension": ".py",
   "mimetype": "text/x-python",
   "name": "python",
   "nbconvert_exporter": "python",
   "pygments_lexer": "ipython3",
   "version": "3.8.10"
  }
 },
 "nbformat": 4,
 "nbformat_minor": 2
}
